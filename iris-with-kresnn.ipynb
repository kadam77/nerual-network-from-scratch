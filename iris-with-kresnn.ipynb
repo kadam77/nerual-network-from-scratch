{
 "cells": [
  {
   "cell_type": "code",
   "execution_count": 1,
   "id": "4585e0f6",
   "metadata": {
    "execution": {
     "iopub.execute_input": "2023-03-19T21:34:07.166682Z",
     "iopub.status.busy": "2023-03-19T21:34:07.166262Z",
     "iopub.status.idle": "2023-03-19T21:34:07.175515Z",
     "shell.execute_reply": "2023-03-19T21:34:07.174478Z"
    },
    "papermill": {
     "duration": 0.019191,
     "end_time": "2023-03-19T21:34:07.177849",
     "exception": false,
     "start_time": "2023-03-19T21:34:07.158658",
     "status": "completed"
    },
    "tags": []
   },
   "outputs": [],
   "source": [
    "import numpy as np\n",
    "import pandas as pd"
   ]
  },
  {
   "cell_type": "code",
   "execution_count": 2,
   "id": "e0525428",
   "metadata": {
    "execution": {
     "iopub.execute_input": "2023-03-19T21:34:07.188421Z",
     "iopub.status.busy": "2023-03-19T21:34:07.188103Z",
     "iopub.status.idle": "2023-03-19T21:34:07.203999Z",
     "shell.execute_reply": "2023-03-19T21:34:07.202650Z"
    },
    "papermill": {
     "duration": 0.023461,
     "end_time": "2023-03-19T21:34:07.206194",
     "exception": false,
     "start_time": "2023-03-19T21:34:07.182733",
     "status": "completed"
    },
    "tags": []
   },
   "outputs": [],
   "source": [
    "data = pd.read_csv('/kaggle/input/iris/Iris.csv')"
   ]
  },
  {
   "cell_type": "code",
   "execution_count": 3,
   "id": "75daf574",
   "metadata": {
    "execution": {
     "iopub.execute_input": "2023-03-19T21:34:07.216587Z",
     "iopub.status.busy": "2023-03-19T21:34:07.216202Z",
     "iopub.status.idle": "2023-03-19T21:34:07.221239Z",
     "shell.execute_reply": "2023-03-19T21:34:07.220145Z"
    },
    "papermill": {
     "duration": 0.012792,
     "end_time": "2023-03-19T21:34:07.223581",
     "exception": false,
     "start_time": "2023-03-19T21:34:07.210789",
     "status": "completed"
    },
    "tags": []
   },
   "outputs": [],
   "source": [
    "data.head\n",
    "data = np.array(data)"
   ]
  },
  {
   "cell_type": "code",
   "execution_count": 4,
   "id": "83698f22",
   "metadata": {
    "execution": {
     "iopub.execute_input": "2023-03-19T21:34:07.234213Z",
     "iopub.status.busy": "2023-03-19T21:34:07.233880Z",
     "iopub.status.idle": "2023-03-19T21:34:07.244354Z",
     "shell.execute_reply": "2023-03-19T21:34:07.243301Z"
    },
    "papermill": {
     "duration": 0.01849,
     "end_time": "2023-03-19T21:34:07.246609",
     "exception": false,
     "start_time": "2023-03-19T21:34:07.228119",
     "status": "completed"
    },
    "tags": []
   },
   "outputs": [
    {
     "data": {
      "text/plain": [
       "array([[5.1, 3.5, 1.4, 0.2, 'Iris-setosa'],\n",
       "       [4.9, 3.0, 1.4, 0.2, 'Iris-setosa'],\n",
       "       [4.7, 3.2, 1.3, 0.2, 'Iris-setosa'],\n",
       "       [4.6, 3.1, 1.5, 0.2, 'Iris-setosa'],\n",
       "       [5.0, 3.6, 1.4, 0.2, 'Iris-setosa'],\n",
       "       [5.4, 3.9, 1.7, 0.4, 'Iris-setosa'],\n",
       "       [4.6, 3.4, 1.4, 0.3, 'Iris-setosa'],\n",
       "       [5.0, 3.4, 1.5, 0.2, 'Iris-setosa'],\n",
       "       [4.4, 2.9, 1.4, 0.2, 'Iris-setosa'],\n",
       "       [4.9, 3.1, 1.5, 0.1, 'Iris-setosa'],\n",
       "       [5.4, 3.7, 1.5, 0.2, 'Iris-setosa'],\n",
       "       [4.8, 3.4, 1.6, 0.2, 'Iris-setosa'],\n",
       "       [4.8, 3.0, 1.4, 0.1, 'Iris-setosa'],\n",
       "       [4.3, 3.0, 1.1, 0.1, 'Iris-setosa'],\n",
       "       [5.8, 4.0, 1.2, 0.2, 'Iris-setosa'],\n",
       "       [5.7, 4.4, 1.5, 0.4, 'Iris-setosa'],\n",
       "       [5.4, 3.9, 1.3, 0.4, 'Iris-setosa'],\n",
       "       [5.1, 3.5, 1.4, 0.3, 'Iris-setosa'],\n",
       "       [5.7, 3.8, 1.7, 0.3, 'Iris-setosa'],\n",
       "       [5.1, 3.8, 1.5, 0.3, 'Iris-setosa'],\n",
       "       [5.4, 3.4, 1.7, 0.2, 'Iris-setosa'],\n",
       "       [5.1, 3.7, 1.5, 0.4, 'Iris-setosa'],\n",
       "       [4.6, 3.6, 1.0, 0.2, 'Iris-setosa'],\n",
       "       [5.1, 3.3, 1.7, 0.5, 'Iris-setosa'],\n",
       "       [4.8, 3.4, 1.9, 0.2, 'Iris-setosa'],\n",
       "       [5.0, 3.0, 1.6, 0.2, 'Iris-setosa'],\n",
       "       [5.0, 3.4, 1.6, 0.4, 'Iris-setosa'],\n",
       "       [5.2, 3.5, 1.5, 0.2, 'Iris-setosa'],\n",
       "       [5.2, 3.4, 1.4, 0.2, 'Iris-setosa'],\n",
       "       [4.7, 3.2, 1.6, 0.2, 'Iris-setosa'],\n",
       "       [4.8, 3.1, 1.6, 0.2, 'Iris-setosa'],\n",
       "       [5.4, 3.4, 1.5, 0.4, 'Iris-setosa'],\n",
       "       [5.2, 4.1, 1.5, 0.1, 'Iris-setosa'],\n",
       "       [5.5, 4.2, 1.4, 0.2, 'Iris-setosa'],\n",
       "       [4.9, 3.1, 1.5, 0.1, 'Iris-setosa'],\n",
       "       [5.0, 3.2, 1.2, 0.2, 'Iris-setosa'],\n",
       "       [5.5, 3.5, 1.3, 0.2, 'Iris-setosa'],\n",
       "       [4.9, 3.1, 1.5, 0.1, 'Iris-setosa'],\n",
       "       [4.4, 3.0, 1.3, 0.2, 'Iris-setosa'],\n",
       "       [5.1, 3.4, 1.5, 0.2, 'Iris-setosa'],\n",
       "       [5.0, 3.5, 1.3, 0.3, 'Iris-setosa'],\n",
       "       [4.5, 2.3, 1.3, 0.3, 'Iris-setosa'],\n",
       "       [4.4, 3.2, 1.3, 0.2, 'Iris-setosa'],\n",
       "       [5.0, 3.5, 1.6, 0.6, 'Iris-setosa'],\n",
       "       [5.1, 3.8, 1.9, 0.4, 'Iris-setosa'],\n",
       "       [4.8, 3.0, 1.4, 0.3, 'Iris-setosa'],\n",
       "       [5.1, 3.8, 1.6, 0.2, 'Iris-setosa'],\n",
       "       [4.6, 3.2, 1.4, 0.2, 'Iris-setosa'],\n",
       "       [5.3, 3.7, 1.5, 0.2, 'Iris-setosa'],\n",
       "       [5.0, 3.3, 1.4, 0.2, 'Iris-setosa'],\n",
       "       [7.0, 3.2, 4.7, 1.4, 'Iris-versicolor'],\n",
       "       [6.4, 3.2, 4.5, 1.5, 'Iris-versicolor'],\n",
       "       [6.9, 3.1, 4.9, 1.5, 'Iris-versicolor'],\n",
       "       [5.5, 2.3, 4.0, 1.3, 'Iris-versicolor'],\n",
       "       [6.5, 2.8, 4.6, 1.5, 'Iris-versicolor'],\n",
       "       [5.7, 2.8, 4.5, 1.3, 'Iris-versicolor'],\n",
       "       [6.3, 3.3, 4.7, 1.6, 'Iris-versicolor'],\n",
       "       [4.9, 2.4, 3.3, 1.0, 'Iris-versicolor'],\n",
       "       [6.6, 2.9, 4.6, 1.3, 'Iris-versicolor'],\n",
       "       [5.2, 2.7, 3.9, 1.4, 'Iris-versicolor'],\n",
       "       [5.0, 2.0, 3.5, 1.0, 'Iris-versicolor'],\n",
       "       [5.9, 3.0, 4.2, 1.5, 'Iris-versicolor'],\n",
       "       [6.0, 2.2, 4.0, 1.0, 'Iris-versicolor'],\n",
       "       [6.1, 2.9, 4.7, 1.4, 'Iris-versicolor'],\n",
       "       [5.6, 2.9, 3.6, 1.3, 'Iris-versicolor'],\n",
       "       [6.7, 3.1, 4.4, 1.4, 'Iris-versicolor'],\n",
       "       [5.6, 3.0, 4.5, 1.5, 'Iris-versicolor'],\n",
       "       [5.8, 2.7, 4.1, 1.0, 'Iris-versicolor'],\n",
       "       [6.2, 2.2, 4.5, 1.5, 'Iris-versicolor'],\n",
       "       [5.6, 2.5, 3.9, 1.1, 'Iris-versicolor'],\n",
       "       [5.9, 3.2, 4.8, 1.8, 'Iris-versicolor'],\n",
       "       [6.1, 2.8, 4.0, 1.3, 'Iris-versicolor'],\n",
       "       [6.3, 2.5, 4.9, 1.5, 'Iris-versicolor'],\n",
       "       [6.1, 2.8, 4.7, 1.2, 'Iris-versicolor'],\n",
       "       [6.4, 2.9, 4.3, 1.3, 'Iris-versicolor'],\n",
       "       [6.6, 3.0, 4.4, 1.4, 'Iris-versicolor'],\n",
       "       [6.8, 2.8, 4.8, 1.4, 'Iris-versicolor'],\n",
       "       [6.7, 3.0, 5.0, 1.7, 'Iris-versicolor'],\n",
       "       [6.0, 2.9, 4.5, 1.5, 'Iris-versicolor'],\n",
       "       [5.7, 2.6, 3.5, 1.0, 'Iris-versicolor'],\n",
       "       [5.5, 2.4, 3.8, 1.1, 'Iris-versicolor'],\n",
       "       [5.5, 2.4, 3.7, 1.0, 'Iris-versicolor'],\n",
       "       [5.8, 2.7, 3.9, 1.2, 'Iris-versicolor'],\n",
       "       [6.0, 2.7, 5.1, 1.6, 'Iris-versicolor'],\n",
       "       [5.4, 3.0, 4.5, 1.5, 'Iris-versicolor'],\n",
       "       [6.0, 3.4, 4.5, 1.6, 'Iris-versicolor'],\n",
       "       [6.7, 3.1, 4.7, 1.5, 'Iris-versicolor'],\n",
       "       [6.3, 2.3, 4.4, 1.3, 'Iris-versicolor'],\n",
       "       [5.6, 3.0, 4.1, 1.3, 'Iris-versicolor'],\n",
       "       [5.5, 2.5, 4.0, 1.3, 'Iris-versicolor'],\n",
       "       [5.5, 2.6, 4.4, 1.2, 'Iris-versicolor'],\n",
       "       [6.1, 3.0, 4.6, 1.4, 'Iris-versicolor'],\n",
       "       [5.8, 2.6, 4.0, 1.2, 'Iris-versicolor'],\n",
       "       [5.0, 2.3, 3.3, 1.0, 'Iris-versicolor'],\n",
       "       [5.6, 2.7, 4.2, 1.3, 'Iris-versicolor'],\n",
       "       [5.7, 3.0, 4.2, 1.2, 'Iris-versicolor'],\n",
       "       [5.7, 2.9, 4.2, 1.3, 'Iris-versicolor'],\n",
       "       [6.2, 2.9, 4.3, 1.3, 'Iris-versicolor'],\n",
       "       [5.1, 2.5, 3.0, 1.1, 'Iris-versicolor'],\n",
       "       [5.7, 2.8, 4.1, 1.3, 'Iris-versicolor'],\n",
       "       [6.3, 3.3, 6.0, 2.5, 'Iris-virginica'],\n",
       "       [5.8, 2.7, 5.1, 1.9, 'Iris-virginica'],\n",
       "       [7.1, 3.0, 5.9, 2.1, 'Iris-virginica'],\n",
       "       [6.3, 2.9, 5.6, 1.8, 'Iris-virginica'],\n",
       "       [6.5, 3.0, 5.8, 2.2, 'Iris-virginica'],\n",
       "       [7.6, 3.0, 6.6, 2.1, 'Iris-virginica'],\n",
       "       [4.9, 2.5, 4.5, 1.7, 'Iris-virginica'],\n",
       "       [7.3, 2.9, 6.3, 1.8, 'Iris-virginica'],\n",
       "       [6.7, 2.5, 5.8, 1.8, 'Iris-virginica'],\n",
       "       [7.2, 3.6, 6.1, 2.5, 'Iris-virginica'],\n",
       "       [6.5, 3.2, 5.1, 2.0, 'Iris-virginica'],\n",
       "       [6.4, 2.7, 5.3, 1.9, 'Iris-virginica'],\n",
       "       [6.8, 3.0, 5.5, 2.1, 'Iris-virginica'],\n",
       "       [5.7, 2.5, 5.0, 2.0, 'Iris-virginica'],\n",
       "       [5.8, 2.8, 5.1, 2.4, 'Iris-virginica'],\n",
       "       [6.4, 3.2, 5.3, 2.3, 'Iris-virginica'],\n",
       "       [6.5, 3.0, 5.5, 1.8, 'Iris-virginica'],\n",
       "       [7.7, 3.8, 6.7, 2.2, 'Iris-virginica'],\n",
       "       [7.7, 2.6, 6.9, 2.3, 'Iris-virginica'],\n",
       "       [6.0, 2.2, 5.0, 1.5, 'Iris-virginica'],\n",
       "       [6.9, 3.2, 5.7, 2.3, 'Iris-virginica'],\n",
       "       [5.6, 2.8, 4.9, 2.0, 'Iris-virginica'],\n",
       "       [7.7, 2.8, 6.7, 2.0, 'Iris-virginica'],\n",
       "       [6.3, 2.7, 4.9, 1.8, 'Iris-virginica'],\n",
       "       [6.7, 3.3, 5.7, 2.1, 'Iris-virginica'],\n",
       "       [7.2, 3.2, 6.0, 1.8, 'Iris-virginica'],\n",
       "       [6.2, 2.8, 4.8, 1.8, 'Iris-virginica'],\n",
       "       [6.1, 3.0, 4.9, 1.8, 'Iris-virginica'],\n",
       "       [6.4, 2.8, 5.6, 2.1, 'Iris-virginica'],\n",
       "       [7.2, 3.0, 5.8, 1.6, 'Iris-virginica'],\n",
       "       [7.4, 2.8, 6.1, 1.9, 'Iris-virginica'],\n",
       "       [7.9, 3.8, 6.4, 2.0, 'Iris-virginica'],\n",
       "       [6.4, 2.8, 5.6, 2.2, 'Iris-virginica'],\n",
       "       [6.3, 2.8, 5.1, 1.5, 'Iris-virginica'],\n",
       "       [6.1, 2.6, 5.6, 1.4, 'Iris-virginica'],\n",
       "       [7.7, 3.0, 6.1, 2.3, 'Iris-virginica'],\n",
       "       [6.3, 3.4, 5.6, 2.4, 'Iris-virginica'],\n",
       "       [6.4, 3.1, 5.5, 1.8, 'Iris-virginica'],\n",
       "       [6.0, 3.0, 4.8, 1.8, 'Iris-virginica'],\n",
       "       [6.9, 3.1, 5.4, 2.1, 'Iris-virginica'],\n",
       "       [6.7, 3.1, 5.6, 2.4, 'Iris-virginica'],\n",
       "       [6.9, 3.1, 5.1, 2.3, 'Iris-virginica'],\n",
       "       [5.8, 2.7, 5.1, 1.9, 'Iris-virginica'],\n",
       "       [6.8, 3.2, 5.9, 2.3, 'Iris-virginica'],\n",
       "       [6.7, 3.3, 5.7, 2.5, 'Iris-virginica'],\n",
       "       [6.7, 3.0, 5.2, 2.3, 'Iris-virginica'],\n",
       "       [6.3, 2.5, 5.0, 1.9, 'Iris-virginica'],\n",
       "       [6.5, 3.0, 5.2, 2.0, 'Iris-virginica'],\n",
       "       [6.2, 3.4, 5.4, 2.3, 'Iris-virginica'],\n",
       "       [5.9, 3.0, 5.1, 1.8, 'Iris-virginica']], dtype=object)"
      ]
     },
     "execution_count": 4,
     "metadata": {},
     "output_type": "execute_result"
    }
   ],
   "source": [
    "data = np.delete(data,0,1)\n",
    "data\n"
   ]
  },
  {
   "cell_type": "code",
   "execution_count": 5,
   "id": "c8eec1f1",
   "metadata": {
    "execution": {
     "iopub.execute_input": "2023-03-19T21:34:07.257836Z",
     "iopub.status.busy": "2023-03-19T21:34:07.257547Z",
     "iopub.status.idle": "2023-03-19T21:34:07.263672Z",
     "shell.execute_reply": "2023-03-19T21:34:07.262465Z"
    },
    "papermill": {
     "duration": 0.014442,
     "end_time": "2023-03-19T21:34:07.265963",
     "exception": false,
     "start_time": "2023-03-19T21:34:07.251521",
     "status": "completed"
    },
    "tags": []
   },
   "outputs": [],
   "source": [
    "m, n = data.shape\n",
    "np.random.shuffle(data) "
   ]
  },
  {
   "cell_type": "code",
   "execution_count": 6,
   "id": "067272f1",
   "metadata": {
    "execution": {
     "iopub.execute_input": "2023-03-19T21:34:07.277046Z",
     "iopub.status.busy": "2023-03-19T21:34:07.276339Z",
     "iopub.status.idle": "2023-03-19T21:34:07.281187Z",
     "shell.execute_reply": "2023-03-19T21:34:07.280155Z"
    },
    "papermill": {
     "duration": 0.012576,
     "end_time": "2023-03-19T21:34:07.283283",
     "exception": false,
     "start_time": "2023-03-19T21:34:07.270707",
     "status": "completed"
    },
    "tags": []
   },
   "outputs": [],
   "source": [
    "#data"
   ]
  },
  {
   "cell_type": "code",
   "execution_count": 7,
   "id": "de50383b",
   "metadata": {
    "execution": {
     "iopub.execute_input": "2023-03-19T21:34:07.294118Z",
     "iopub.status.busy": "2023-03-19T21:34:07.293799Z",
     "iopub.status.idle": "2023-03-19T21:34:07.298495Z",
     "shell.execute_reply": "2023-03-19T21:34:07.297417Z"
    },
    "papermill": {
     "duration": 0.012643,
     "end_time": "2023-03-19T21:34:07.300743",
     "exception": false,
     "start_time": "2023-03-19T21:34:07.288100",
     "status": "completed"
    },
    "tags": []
   },
   "outputs": [],
   "source": [
    "data_dev = data[0:140].T\n",
    "\n",
    "Y_dev = data_dev[4]\n",
    "X_dev = data_dev[:4]\n",
    "X_dev = X_dev\n"
   ]
  },
  {
   "cell_type": "code",
   "execution_count": 8,
   "id": "eea7cb64",
   "metadata": {
    "execution": {
     "iopub.execute_input": "2023-03-19T21:34:07.312035Z",
     "iopub.status.busy": "2023-03-19T21:34:07.311544Z",
     "iopub.status.idle": "2023-03-19T21:34:07.318598Z",
     "shell.execute_reply": "2023-03-19T21:34:07.317511Z"
    },
    "papermill": {
     "duration": 0.014954,
     "end_time": "2023-03-19T21:34:07.320778",
     "exception": false,
     "start_time": "2023-03-19T21:34:07.305824",
     "status": "completed"
    },
    "tags": []
   },
   "outputs": [
    {
     "data": {
      "text/plain": [
       "array(['Iris-virginica', 'Iris-virginica', 'Iris-versicolor',\n",
       "       'Iris-virginica', 'Iris-setosa', 'Iris-versicolor', 'Iris-setosa',\n",
       "       'Iris-virginica', 'Iris-virginica', 'Iris-setosa',\n",
       "       'Iris-versicolor', 'Iris-setosa', 'Iris-setosa', 'Iris-virginica',\n",
       "       'Iris-virginica', 'Iris-virginica', 'Iris-versicolor',\n",
       "       'Iris-virginica', 'Iris-virginica', 'Iris-versicolor',\n",
       "       'Iris-versicolor', 'Iris-setosa', 'Iris-virginica',\n",
       "       'Iris-virginica', 'Iris-setosa', 'Iris-versicolor',\n",
       "       'Iris-versicolor', 'Iris-versicolor', 'Iris-versicolor',\n",
       "       'Iris-setosa', 'Iris-virginica', 'Iris-versicolor',\n",
       "       'Iris-versicolor', 'Iris-setosa', 'Iris-virginica', 'Iris-setosa',\n",
       "       'Iris-versicolor', 'Iris-virginica', 'Iris-setosa',\n",
       "       'Iris-virginica', 'Iris-virginica', 'Iris-virginica',\n",
       "       'Iris-versicolor', 'Iris-setosa', 'Iris-virginica',\n",
       "       'Iris-virginica', 'Iris-virginica', 'Iris-setosa',\n",
       "       'Iris-versicolor', 'Iris-versicolor', 'Iris-virginica',\n",
       "       'Iris-versicolor', 'Iris-versicolor', 'Iris-setosa',\n",
       "       'Iris-versicolor', 'Iris-setosa', 'Iris-versicolor',\n",
       "       'Iris-versicolor', 'Iris-virginica', 'Iris-setosa',\n",
       "       'Iris-virginica', 'Iris-versicolor', 'Iris-setosa',\n",
       "       'Iris-virginica', 'Iris-virginica', 'Iris-versicolor',\n",
       "       'Iris-virginica', 'Iris-setosa', 'Iris-versicolor', 'Iris-setosa',\n",
       "       'Iris-versicolor', 'Iris-versicolor', 'Iris-versicolor',\n",
       "       'Iris-virginica', 'Iris-setosa', 'Iris-virginica', 'Iris-setosa',\n",
       "       'Iris-setosa', 'Iris-setosa', 'Iris-setosa', 'Iris-setosa',\n",
       "       'Iris-versicolor', 'Iris-versicolor', 'Iris-versicolor',\n",
       "       'Iris-virginica', 'Iris-virginica', 'Iris-virginica',\n",
       "       'Iris-versicolor', 'Iris-setosa', 'Iris-setosa', 'Iris-versicolor',\n",
       "       'Iris-setosa', 'Iris-setosa', 'Iris-virginica', 'Iris-virginica',\n",
       "       'Iris-setosa', 'Iris-versicolor', 'Iris-setosa', 'Iris-setosa',\n",
       "       'Iris-versicolor', 'Iris-virginica', 'Iris-setosa',\n",
       "       'Iris-virginica', 'Iris-setosa', 'Iris-setosa', 'Iris-versicolor',\n",
       "       'Iris-versicolor', 'Iris-versicolor', 'Iris-versicolor',\n",
       "       'Iris-setosa', 'Iris-virginica', 'Iris-virginica',\n",
       "       'Iris-versicolor', 'Iris-virginica', 'Iris-virginica',\n",
       "       'Iris-virginica', 'Iris-setosa', 'Iris-setosa', 'Iris-versicolor',\n",
       "       'Iris-versicolor', 'Iris-versicolor', 'Iris-setosa',\n",
       "       'Iris-versicolor', 'Iris-versicolor', 'Iris-virginica',\n",
       "       'Iris-setosa', 'Iris-virginica', 'Iris-setosa', 'Iris-virginica',\n",
       "       'Iris-setosa', 'Iris-versicolor', 'Iris-setosa', 'Iris-versicolor',\n",
       "       'Iris-virginica', 'Iris-versicolor', 'Iris-versicolor',\n",
       "       'Iris-virginica', 'Iris-versicolor', 'Iris-setosa',\n",
       "       'Iris-versicolor'], dtype=object)"
      ]
     },
     "execution_count": 8,
     "metadata": {},
     "output_type": "execute_result"
    }
   ],
   "source": [
    "Y_dev"
   ]
  },
  {
   "cell_type": "code",
   "execution_count": 9,
   "id": "dc514378",
   "metadata": {
    "execution": {
     "iopub.execute_input": "2023-03-19T21:34:07.332467Z",
     "iopub.status.busy": "2023-03-19T21:34:07.331779Z",
     "iopub.status.idle": "2023-03-19T21:34:07.341659Z",
     "shell.execute_reply": "2023-03-19T21:34:07.340736Z"
    },
    "papermill": {
     "duration": 0.018124,
     "end_time": "2023-03-19T21:34:07.343893",
     "exception": false,
     "start_time": "2023-03-19T21:34:07.325769",
     "status": "completed"
    },
    "tags": []
   },
   "outputs": [
    {
     "data": {
      "text/plain": [
       "array([2, 2, 1, 2, 0, 1, 0, 2, 2, 0, 1, 0, 0, 2, 2, 2, 1, 2, 2, 1, 1, 0,\n",
       "       2, 2, 0, 1, 1, 1, 1, 0, 2, 1, 1, 0, 2, 0, 1, 2, 0, 2, 2, 2, 1, 0,\n",
       "       2, 2, 2, 0, 1, 1, 2, 1, 1, 0, 1, 0, 1, 1, 2, 0, 2, 1, 0, 2, 2, 1,\n",
       "       2, 0, 1, 0, 1, 1, 1, 2, 0, 2, 0, 0, 0, 0, 0, 1, 1, 1, 2, 2, 2, 1,\n",
       "       0, 0, 1, 0, 0, 2, 2, 0, 1, 0, 0, 1, 2, 0, 2, 0, 0, 1, 1, 1, 1, 0,\n",
       "       2, 2, 1, 2, 2, 2, 0, 0, 1, 1, 1, 0, 1, 1, 2, 0, 2, 0, 2, 0, 1, 0,\n",
       "       1, 2, 1, 1, 2, 1, 0, 1])"
      ]
     },
     "execution_count": 9,
     "metadata": {},
     "output_type": "execute_result"
    }
   ],
   "source": [
    "Y_dev = np.unique(Y_dev, return_inverse=True)[1].tolist()\n",
    "Y_dev = np.array(Y_dev)\n",
    "Y_dev"
   ]
  },
  {
   "cell_type": "code",
   "execution_count": 10,
   "id": "593d1eea",
   "metadata": {
    "execution": {
     "iopub.execute_input": "2023-03-19T21:34:07.355114Z",
     "iopub.status.busy": "2023-03-19T21:34:07.354818Z",
     "iopub.status.idle": "2023-03-19T21:34:07.362228Z",
     "shell.execute_reply": "2023-03-19T21:34:07.361286Z"
    },
    "papermill": {
     "duration": 0.0154,
     "end_time": "2023-03-19T21:34:07.364324",
     "exception": false,
     "start_time": "2023-03-19T21:34:07.348924",
     "status": "completed"
    },
    "tags": []
   },
   "outputs": [
    {
     "data": {
      "text/plain": [
       "(4, 10)"
      ]
     },
     "execution_count": 10,
     "metadata": {},
     "output_type": "execute_result"
    }
   ],
   "source": [
    "data_train = data[140:m].T\n",
    "\n",
    "Y_train = data_train[4]\n",
    "X_train = data_train[:4]\n",
    "X_train = X_train\n",
    "X_train.shape"
   ]
  },
  {
   "cell_type": "code",
   "execution_count": 11,
   "id": "e45a4256",
   "metadata": {
    "execution": {
     "iopub.execute_input": "2023-03-19T21:34:07.376171Z",
     "iopub.status.busy": "2023-03-19T21:34:07.375730Z",
     "iopub.status.idle": "2023-03-19T21:34:07.382386Z",
     "shell.execute_reply": "2023-03-19T21:34:07.381172Z"
    },
    "papermill": {
     "duration": 0.015758,
     "end_time": "2023-03-19T21:34:07.385307",
     "exception": false,
     "start_time": "2023-03-19T21:34:07.369549",
     "status": "completed"
    },
    "tags": []
   },
   "outputs": [],
   "source": [
    "Y_train = np.unique(Y_train, return_inverse=True)[1].tolist()\n",
    "Y_train = np.array(Y_train)\n"
   ]
  },
  {
   "cell_type": "code",
   "execution_count": 12,
   "id": "a4d79f54",
   "metadata": {
    "execution": {
     "iopub.execute_input": "2023-03-19T21:34:07.400508Z",
     "iopub.status.busy": "2023-03-19T21:34:07.400115Z",
     "iopub.status.idle": "2023-03-19T21:34:07.417032Z",
     "shell.execute_reply": "2023-03-19T21:34:07.416122Z"
    },
    "papermill": {
     "duration": 0.026461,
     "end_time": "2023-03-19T21:34:07.419336",
     "exception": false,
     "start_time": "2023-03-19T21:34:07.392875",
     "status": "completed"
    },
    "tags": []
   },
   "outputs": [],
   "source": [
    "def initial_params():\n",
    "    w1 = np.random.rand(10,4)-0.5\n",
    "    w2 = np.random.rand(3,10)-0.5\n",
    "    b1 = np.random.rand(10,1)-0.5\n",
    "    b2 = np.random.rand(3,1)-0.5\n",
    "    return w1,w2,b1,b2\n",
    "\n",
    "def relu(z):\n",
    "    return np.maximum(0,z)\n",
    "\n",
    "def softmax(z):\n",
    "    return np.exp(z)/np.sum(np.exp(z))\n",
    "  \n",
    "def fwd_prop(w1,w2,b1,b2,x):\n",
    "    z1 = w1.dot(x) + b1\n",
    "    a1 = relu(z1)\n",
    "    z2 = w2.dot(a1) + b2\n",
    "    #print(z2.shape)\n",
    "    a2 = softmax(z2)\n",
    "    #print(a2.shape)\n",
    "    return z1,a1,z2,a2  \n",
    "\n",
    "\n",
    "def deriv_relu(z):\n",
    "    return z > 0\n",
    "\n",
    "def one_hot(Y):\n",
    "    one_hot_Y = np.zeros((Y.size, 3))\n",
    "    one_hot_Y[np.arange(Y.size), Y] = 1\n",
    "    one_hot_Y = one_hot_Y.T\n",
    "    return one_hot_Y\n",
    "\n",
    "def back_prop(z1, a1, z2, a2, w1, w2, x, y):\n",
    "    #one_hot_y = one_hot(y)\n",
    "    dz2 = a2 #- one_hot_y\n",
    "    dw2 = 1/m * dz2.dot(a1.T)\n",
    "    db2 = 1/m * np.sum(dz2)\n",
    "    \n",
    "    dz1 = w2.T.dot(dz2) * deriv_relu(z1)\n",
    "    dw1 = 1/m * dz1.dot(x.T)\n",
    "    db1 = 1/m * np.sum(dz1)\n",
    "    \n",
    "    return dw1,dw2,db1,db2\n",
    "\n",
    "def update_params(w1,b1,w2,b2,dw1,db1,dw2,db2,alpha):\n",
    "    w1 = w1 - alpha * dw1\n",
    "    b1 = b1 - alpha * db1\n",
    "    w2 = w2 - alpha * dw2\n",
    "    b2 = b2 - alpha * db2\n",
    "    return w1,w2,b1,b2\n",
    "\n",
    "def prediction(a2):\n",
    "    #print(a2)\n",
    "    #print(np.argmax(a2,1))\n",
    "    return np.argmax(a2,0)\n",
    "\n",
    "def accuracy(pred,y):\n",
    "    #print(pred,y)\n",
    "    return np.sum(pred == y)/y.size\n",
    "\n",
    "def best(a,b,w1,b1,w2,b2):\n",
    "    if(b>a):\n",
    "        wa = w1\n",
    "        ba = b1\n",
    "        wb = w2\n",
    "        bb = b2\n",
    "    return b    \n",
    "    "
   ]
  },
  {
   "cell_type": "code",
   "execution_count": 13,
   "id": "5b20fd66",
   "metadata": {
    "execution": {
     "iopub.execute_input": "2023-03-19T21:34:07.431719Z",
     "iopub.status.busy": "2023-03-19T21:34:07.431066Z",
     "iopub.status.idle": "2023-03-19T21:34:07.439517Z",
     "shell.execute_reply": "2023-03-19T21:34:07.438693Z"
    },
    "papermill": {
     "duration": 0.017112,
     "end_time": "2023-03-19T21:34:07.441787",
     "exception": false,
     "start_time": "2023-03-19T21:34:07.424675",
     "status": "completed"
    },
    "tags": []
   },
   "outputs": [],
   "source": [
    "\n",
    "\n",
    "def gradient_decent(x, y, epochs, alpha):\n",
    "    w1, w2, b1, b2 = initial_params()\n",
    "    k = 0\n",
    "    for i in range(epochs):\n",
    "        \n",
    "       \n",
    "        z1, a1, z2, a2 = fwd_prop(w1, w2, b1, b2, x)\n",
    "        k = best(k,accuracy(prediction(a2),y),w1, b1, w2, b2)\n",
    "        dw1, dw2, db1, db2 = back_prop(z1, a1, z2, a2, w1, w2, x, y)\n",
    "        w1, w2, b1, b2 = update_params(w1,b1,w2,b2,dw1,db1,dw2,db2,alpha)\n",
    "        \n",
    "        \n",
    "        if i % 10 == 0 :\n",
    "           \n",
    "            print('iteration:', i)\n",
    "            print('accuracy:' ,accuracy(prediction(a2),y))\n",
    "           \n",
    "            \n",
    "            print('best:',k)\n",
    "            k = accuracy(prediction(a2),y)\n",
    "       \n",
    "    return w1,w2,b1,b2       \n",
    "            \n",
    "        "
   ]
  },
  {
   "cell_type": "code",
   "execution_count": 14,
   "id": "f4d6b263",
   "metadata": {
    "execution": {
     "iopub.execute_input": "2023-03-19T21:34:07.453975Z",
     "iopub.status.busy": "2023-03-19T21:34:07.453257Z",
     "iopub.status.idle": "2023-03-19T21:34:07.535730Z",
     "shell.execute_reply": "2023-03-19T21:34:07.534425Z"
    },
    "papermill": {
     "duration": 0.092098,
     "end_time": "2023-03-19T21:34:07.539034",
     "exception": false,
     "start_time": "2023-03-19T21:34:07.446936",
     "status": "completed"
    },
    "tags": []
   },
   "outputs": [
    {
     "name": "stdout",
     "output_type": "stream",
     "text": [
      "iteration: 0\n",
      "accuracy: 0.32857142857142857\n",
      "best: 0.32857142857142857\n",
      "iteration: 10\n",
      "accuracy: 0.32857142857142857\n",
      "best: 0.32857142857142857\n",
      "iteration: 20\n",
      "accuracy: 0.32857142857142857\n",
      "best: 0.32857142857142857\n",
      "iteration: 30\n",
      "accuracy: 0.32857142857142857\n",
      "best: 0.32857142857142857\n",
      "iteration: 40\n",
      "accuracy: 0.32857142857142857\n",
      "best: 0.32857142857142857\n",
      "iteration: 50\n",
      "accuracy: 0.32857142857142857\n",
      "best: 0.32857142857142857\n",
      "iteration: 60\n",
      "accuracy: 0.32857142857142857\n",
      "best: 0.32857142857142857\n",
      "iteration: 70\n",
      "accuracy: 0.32857142857142857\n",
      "best: 0.32857142857142857\n",
      "iteration: 80\n",
      "accuracy: 0.32857142857142857\n",
      "best: 0.32857142857142857\n",
      "iteration: 90\n",
      "accuracy: 0.32857142857142857\n",
      "best: 0.32857142857142857\n",
      "iteration: 100\n",
      "accuracy: 0.32857142857142857\n",
      "best: 0.32857142857142857\n",
      "iteration: 110\n",
      "accuracy: 0.32857142857142857\n",
      "best: 0.32857142857142857\n",
      "iteration: 120\n",
      "accuracy: 0.32857142857142857\n",
      "best: 0.32857142857142857\n",
      "iteration: 130\n",
      "accuracy: 0.32857142857142857\n",
      "best: 0.32857142857142857\n",
      "iteration: 140\n",
      "accuracy: 0.32857142857142857\n",
      "best: 0.32857142857142857\n",
      "iteration: 150\n",
      "accuracy: 0.32857142857142857\n",
      "best: 0.32857142857142857\n",
      "iteration: 160\n",
      "accuracy: 0.32857142857142857\n",
      "best: 0.32857142857142857\n",
      "iteration: 170\n",
      "accuracy: 0.32857142857142857\n",
      "best: 0.32857142857142857\n",
      "iteration: 180\n",
      "accuracy: 0.32857142857142857\n",
      "best: 0.32857142857142857\n",
      "iteration: 190\n",
      "accuracy: 0.32857142857142857\n",
      "best: 0.32857142857142857\n",
      "iteration: 200\n",
      "accuracy: 0.32857142857142857\n",
      "best: 0.32857142857142857\n",
      "iteration: 210\n",
      "accuracy: 0.32857142857142857\n",
      "best: 0.32857142857142857\n",
      "iteration: 220\n",
      "accuracy: 0.32857142857142857\n",
      "best: 0.32857142857142857\n",
      "iteration: 230\n",
      "accuracy: 0.32857142857142857\n",
      "best: 0.32857142857142857\n",
      "iteration: 240\n",
      "accuracy: 0.32857142857142857\n",
      "best: 0.32857142857142857\n",
      "iteration: 250\n",
      "accuracy: 0.32857142857142857\n",
      "best: 0.32857142857142857\n",
      "iteration: 260\n",
      "accuracy: 0.32857142857142857\n",
      "best: 0.32857142857142857\n",
      "iteration: 270\n",
      "accuracy: 0.32857142857142857\n",
      "best: 0.32857142857142857\n",
      "iteration: 280\n",
      "accuracy: 0.32857142857142857\n",
      "best: 0.32857142857142857\n",
      "iteration: 290\n",
      "accuracy: 0.32857142857142857\n",
      "best: 0.32857142857142857\n",
      "iteration: 300\n",
      "accuracy: 0.32857142857142857\n",
      "best: 0.32857142857142857\n",
      "iteration: 310\n",
      "accuracy: 0.32142857142857145\n",
      "best: 0.32142857142857145\n",
      "iteration: 320\n",
      "accuracy: 0.3142857142857143\n",
      "best: 0.3142857142857143\n",
      "iteration: 330\n",
      "accuracy: 0.2857142857142857\n",
      "best: 0.2857142857142857\n",
      "iteration: 340\n",
      "accuracy: 0.2642857142857143\n",
      "best: 0.2642857142857143\n",
      "iteration: 350\n",
      "accuracy: 0.24285714285714285\n",
      "best: 0.24285714285714285\n",
      "iteration: 360\n",
      "accuracy: 0.15714285714285714\n",
      "best: 0.15714285714285714\n",
      "iteration: 370\n",
      "accuracy: 0.10714285714285714\n",
      "best: 0.10714285714285714\n",
      "iteration: 380\n",
      "accuracy: 0.05\n",
      "best: 0.05\n",
      "iteration: 390\n",
      "accuracy: 0.02857142857142857\n",
      "best: 0.02857142857142857\n",
      "iteration: 400\n",
      "accuracy: 0.007142857142857143\n",
      "best: 0.007142857142857143\n",
      "iteration: 410\n",
      "accuracy: 0.0\n",
      "best: 0.0\n",
      "iteration: 420\n",
      "accuracy: 0.007142857142857143\n",
      "best: 0.007142857142857143\n",
      "iteration: 430\n",
      "accuracy: 0.007142857142857143\n",
      "best: 0.007142857142857143\n",
      "iteration: 440\n",
      "accuracy: 0.0\n",
      "best: 0.0\n",
      "iteration: 450\n",
      "accuracy: 0.0\n",
      "best: 0.0\n",
      "iteration: 460\n",
      "accuracy: 0.0\n",
      "best: 0.0\n",
      "iteration: 470\n",
      "accuracy: 0.0\n",
      "best: 0.0\n",
      "iteration: 480\n",
      "accuracy: 0.0\n",
      "best: 0.0\n",
      "iteration: 490\n",
      "accuracy: 0.0\n",
      "best: 0.0\n",
      "iteration: 500\n",
      "accuracy: 0.0\n",
      "best: 0.0\n",
      "iteration: 510\n",
      "accuracy: 0.0\n",
      "best: 0.0\n",
      "iteration: 520\n",
      "accuracy: 0.007142857142857143\n",
      "best: 0.007142857142857143\n",
      "iteration: 530\n",
      "accuracy: 0.007142857142857143\n",
      "best: 0.007142857142857143\n",
      "iteration: 540\n",
      "accuracy: 0.007142857142857143\n",
      "best: 0.007142857142857143\n",
      "iteration: 550\n",
      "accuracy: 0.007142857142857143\n",
      "best: 0.007142857142857143\n",
      "iteration: 560\n",
      "accuracy: 0.007142857142857143\n",
      "best: 0.007142857142857143\n",
      "iteration: 570\n",
      "accuracy: 0.007142857142857143\n",
      "best: 0.007142857142857143\n",
      "iteration: 580\n",
      "accuracy: 0.007142857142857143\n",
      "best: 0.007142857142857143\n",
      "iteration: 590\n",
      "accuracy: 0.014285714285714285\n",
      "best: 0.014285714285714285\n",
      "iteration: 600\n",
      "accuracy: 0.02857142857142857\n",
      "best: 0.02857142857142857\n",
      "iteration: 610\n",
      "accuracy: 0.02857142857142857\n",
      "best: 0.02857142857142857\n",
      "iteration: 620\n",
      "accuracy: 0.02857142857142857\n",
      "best: 0.02857142857142857\n",
      "iteration: 630\n",
      "accuracy: 0.02857142857142857\n",
      "best: 0.02857142857142857\n",
      "iteration: 640\n",
      "accuracy: 0.02857142857142857\n",
      "best: 0.02857142857142857\n",
      "iteration: 650\n",
      "accuracy: 0.03571428571428571\n",
      "best: 0.03571428571428571\n",
      "iteration: 660\n",
      "accuracy: 0.04285714285714286\n",
      "best: 0.04285714285714286\n",
      "iteration: 670\n",
      "accuracy: 0.04285714285714286\n",
      "best: 0.04285714285714286\n",
      "iteration: 680\n",
      "accuracy: 0.04285714285714286\n",
      "best: 0.04285714285714286\n",
      "iteration: 690\n",
      "accuracy: 0.04285714285714286\n",
      "best: 0.04285714285714286\n"
     ]
    }
   ],
   "source": [
    "w1, w2, b1, b2 = gradient_decent(X_dev.astype(float), Y_dev, 700, 0.1)"
   ]
  },
  {
   "cell_type": "code",
   "execution_count": 15,
   "id": "5bd5d8f2",
   "metadata": {
    "execution": {
     "iopub.execute_input": "2023-03-19T21:34:07.552675Z",
     "iopub.status.busy": "2023-03-19T21:34:07.552049Z",
     "iopub.status.idle": "2023-03-19T21:34:07.557665Z",
     "shell.execute_reply": "2023-03-19T21:34:07.556591Z"
    },
    "papermill": {
     "duration": 0.014213,
     "end_time": "2023-03-19T21:34:07.559752",
     "exception": false,
     "start_time": "2023-03-19T21:34:07.545539",
     "status": "completed"
    },
    "tags": []
   },
   "outputs": [],
   "source": [
    "def make_predictions(X, w1, b1, w2, b2):\n",
    "    _, _, _, a2 = fwd_prop(w1, w2, b1, b2, X)\n",
    "    predictions = prediction(a2)\n",
    "    return predictions"
   ]
  },
  {
   "cell_type": "code",
   "execution_count": 16,
   "id": "3e62e99f",
   "metadata": {
    "execution": {
     "iopub.execute_input": "2023-03-19T21:34:07.572481Z",
     "iopub.status.busy": "2023-03-19T21:34:07.572125Z",
     "iopub.status.idle": "2023-03-19T21:34:07.579230Z",
     "shell.execute_reply": "2023-03-19T21:34:07.578189Z"
    },
    "papermill": {
     "duration": 0.015918,
     "end_time": "2023-03-19T21:34:07.581530",
     "exception": false,
     "start_time": "2023-03-19T21:34:07.565612",
     "status": "completed"
    },
    "tags": []
   },
   "outputs": [
    {
     "data": {
      "text/plain": [
       "array([1, 0, 0, 0, 1, 1, 1, 1, 2, 0])"
      ]
     },
     "execution_count": 16,
     "metadata": {},
     "output_type": "execute_result"
    }
   ],
   "source": [
    "make_predictions(X_train.astype(float), w1, b1, w2, b2)"
   ]
  },
  {
   "cell_type": "code",
   "execution_count": 17,
   "id": "953023c7",
   "metadata": {
    "execution": {
     "iopub.execute_input": "2023-03-19T21:34:07.593856Z",
     "iopub.status.busy": "2023-03-19T21:34:07.593544Z",
     "iopub.status.idle": "2023-03-19T21:34:07.599751Z",
     "shell.execute_reply": "2023-03-19T21:34:07.598691Z"
    },
    "papermill": {
     "duration": 0.014934,
     "end_time": "2023-03-19T21:34:07.601978",
     "exception": false,
     "start_time": "2023-03-19T21:34:07.587044",
     "status": "completed"
    },
    "tags": []
   },
   "outputs": [
    {
     "data": {
      "text/plain": [
       "array([0, 1, 1, 1, 0, 0, 0, 0, 0, 1])"
      ]
     },
     "execution_count": 17,
     "metadata": {},
     "output_type": "execute_result"
    }
   ],
   "source": [
    "Y_train"
   ]
  }
 ],
 "metadata": {
  "kernelspec": {
   "display_name": "Python 3",
   "language": "python",
   "name": "python3"
  },
  "language_info": {
   "codemirror_mode": {
    "name": "ipython",
    "version": 3
   },
   "file_extension": ".py",
   "mimetype": "text/x-python",
   "name": "python",
   "nbconvert_exporter": "python",
   "pygments_lexer": "ipython3",
   "version": "3.7.12"
  },
  "papermill": {
   "default_parameters": {},
   "duration": 10.390596,
   "end_time": "2023-03-19T21:34:08.126751",
   "environment_variables": {},
   "exception": null,
   "input_path": "__notebook__.ipynb",
   "output_path": "__notebook__.ipynb",
   "parameters": {},
   "start_time": "2023-03-19T21:33:57.736155",
   "version": "2.4.0"
  }
 },
 "nbformat": 4,
 "nbformat_minor": 5
}
